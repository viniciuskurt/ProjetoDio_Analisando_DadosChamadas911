{
  "nbformat": 4,
  "nbformat_minor": 0,
  "metadata": {
    "colab": {
      "name": "Projeto DIO: Análise de dados com Python e Pandas",
      "provenance": [],
      "mount_file_id": "1hpDUnN8W0UCFOM4o1mQLErdzyL0mMpBW",
      "authorship_tag": "ABX9TyMvTsPJUiTBzsNzSYdNDBt5",
      "include_colab_link": true
    },
    "kernelspec": {
      "name": "python3",
      "display_name": "Python 3"
    },
    "language_info": {
      "name": "python"
    }
  },
  "cells": [
    {
      "cell_type": "markdown",
      "metadata": {
        "id": "view-in-github",
        "colab_type": "text"
      },
      "source": [
        "<a href=\"https://colab.research.google.com/github/viniciuskurt/ProjetoDio_Analisando_DadosChamadas911/blob/main/Projeto_DIO_An%C3%A1lise_de_dados_com_Python_e_Pandas.ipynb\" target=\"_parent\"><img src=\"https://colab.research.google.com/assets/colab-badge.svg\" alt=\"Open In Colab\"/></a>"
      ]
    },
    {
      "cell_type": "markdown",
      "metadata": {
        "id": "wnZhirEdFVMY"
      },
      "source": [
        " #Projeto: Analisando Dados de Chamadas de Emergência 911 \n",
        "\n",
        "\n",
        "O seguinte projeto tem o objetivo de analisar os dados de chamadas telefônicas realizadas para o número de emergência 911 do Condado de Montgomery, localizado no estado americano de Maryland.\n",
        "\n",
        "Este Dataset foi retirado do site Kaggle.com ."
      ]
    },
    {
      "cell_type": "code",
      "metadata": {
        "id": "ws34xj66eAu6"
      },
      "source": [
        "#importando bibliotecas que serão utilizadas no projeto\n",
        "import numpy as np\n",
        "import pandas as pd\n",
        "\n",
        "#bibliotecas de visualização\n",
        "import seaborn as sns\n",
        "import matplotlib.pyplot as plt\n",
        "\n",
        "#configuração para visualizar plots diretamente abaixo da célula de código. \n",
        "%matplotlib inline"
      ],
      "execution_count": 2,
      "outputs": []
    },
    {
      "cell_type": "code",
      "metadata": {
        "id": "YL3zSw_beOhv"
      },
      "source": [
        "#importando dataset 911.csv do Google Drive\n",
        "df = pd.read_csv(\"/content/drive/MyDrive/Datasets/911.csv\")"
      ],
      "execution_count": 3,
      "outputs": []
    },
    {
      "cell_type": "code",
      "metadata": {
        "colab": {
          "base_uri": "https://localhost:8080/",
          "height": 585
        },
        "id": "Xuj7JoWFgt_6",
        "outputId": "4b548687-e07a-4b66-ba96-fd1dea552932"
      },
      "source": [
        "#confirmando carregamento do dataset\n",
        "df"
      ],
      "execution_count": 4,
      "outputs": [
        {
          "output_type": "execute_result",
          "data": {
            "text/html": [
              "<div>\n",
              "<style scoped>\n",
              "    .dataframe tbody tr th:only-of-type {\n",
              "        vertical-align: middle;\n",
              "    }\n",
              "\n",
              "    .dataframe tbody tr th {\n",
              "        vertical-align: top;\n",
              "    }\n",
              "\n",
              "    .dataframe thead th {\n",
              "        text-align: right;\n",
              "    }\n",
              "</style>\n",
              "<table border=\"1\" class=\"dataframe\">\n",
              "  <thead>\n",
              "    <tr style=\"text-align: right;\">\n",
              "      <th></th>\n",
              "      <th>lat</th>\n",
              "      <th>lng</th>\n",
              "      <th>desc</th>\n",
              "      <th>zip</th>\n",
              "      <th>title</th>\n",
              "      <th>timeStamp</th>\n",
              "      <th>twp</th>\n",
              "      <th>addr</th>\n",
              "      <th>e</th>\n",
              "    </tr>\n",
              "  </thead>\n",
              "  <tbody>\n",
              "    <tr>\n",
              "      <th>0</th>\n",
              "      <td>40.297876</td>\n",
              "      <td>-75.581294</td>\n",
              "      <td>REINDEER CT &amp; DEAD END;  NEW HANOVER; Station ...</td>\n",
              "      <td>19525.0</td>\n",
              "      <td>EMS: BACK PAINS/INJURY</td>\n",
              "      <td>2015-12-10 17:40:00</td>\n",
              "      <td>NEW HANOVER</td>\n",
              "      <td>REINDEER CT &amp; DEAD END</td>\n",
              "      <td>1</td>\n",
              "    </tr>\n",
              "    <tr>\n",
              "      <th>1</th>\n",
              "      <td>40.258061</td>\n",
              "      <td>-75.264680</td>\n",
              "      <td>BRIAR PATH &amp; WHITEMARSH LN;  HATFIELD TOWNSHIP...</td>\n",
              "      <td>19446.0</td>\n",
              "      <td>EMS: DIABETIC EMERGENCY</td>\n",
              "      <td>2015-12-10 17:40:00</td>\n",
              "      <td>HATFIELD TOWNSHIP</td>\n",
              "      <td>BRIAR PATH &amp; WHITEMARSH LN</td>\n",
              "      <td>1</td>\n",
              "    </tr>\n",
              "    <tr>\n",
              "      <th>2</th>\n",
              "      <td>40.121182</td>\n",
              "      <td>-75.351975</td>\n",
              "      <td>HAWS AVE; NORRISTOWN; 2015-12-10 @ 14:39:21-St...</td>\n",
              "      <td>19401.0</td>\n",
              "      <td>Fire: GAS-ODOR/LEAK</td>\n",
              "      <td>2015-12-10 17:40:00</td>\n",
              "      <td>NORRISTOWN</td>\n",
              "      <td>HAWS AVE</td>\n",
              "      <td>1</td>\n",
              "    </tr>\n",
              "    <tr>\n",
              "      <th>3</th>\n",
              "      <td>40.116153</td>\n",
              "      <td>-75.343513</td>\n",
              "      <td>AIRY ST &amp; SWEDE ST;  NORRISTOWN; Station 308A;...</td>\n",
              "      <td>19401.0</td>\n",
              "      <td>EMS: CARDIAC EMERGENCY</td>\n",
              "      <td>2015-12-10 17:40:01</td>\n",
              "      <td>NORRISTOWN</td>\n",
              "      <td>AIRY ST &amp; SWEDE ST</td>\n",
              "      <td>1</td>\n",
              "    </tr>\n",
              "    <tr>\n",
              "      <th>4</th>\n",
              "      <td>40.251492</td>\n",
              "      <td>-75.603350</td>\n",
              "      <td>CHERRYWOOD CT &amp; DEAD END;  LOWER POTTSGROVE; S...</td>\n",
              "      <td>NaN</td>\n",
              "      <td>EMS: DIZZINESS</td>\n",
              "      <td>2015-12-10 17:40:01</td>\n",
              "      <td>LOWER POTTSGROVE</td>\n",
              "      <td>CHERRYWOOD CT &amp; DEAD END</td>\n",
              "      <td>1</td>\n",
              "    </tr>\n",
              "    <tr>\n",
              "      <th>...</th>\n",
              "      <td>...</td>\n",
              "      <td>...</td>\n",
              "      <td>...</td>\n",
              "      <td>...</td>\n",
              "      <td>...</td>\n",
              "      <td>...</td>\n",
              "      <td>...</td>\n",
              "      <td>...</td>\n",
              "      <td>...</td>\n",
              "    </tr>\n",
              "    <tr>\n",
              "      <th>99487</th>\n",
              "      <td>40.132869</td>\n",
              "      <td>-75.333515</td>\n",
              "      <td>MARKLEY ST &amp; W LOGAN ST; NORRISTOWN; 2016-08-2...</td>\n",
              "      <td>19401.0</td>\n",
              "      <td>Traffic: VEHICLE ACCIDENT -</td>\n",
              "      <td>2016-08-24 11:06:00</td>\n",
              "      <td>NORRISTOWN</td>\n",
              "      <td>MARKLEY ST &amp; W LOGAN ST</td>\n",
              "      <td>1</td>\n",
              "    </tr>\n",
              "    <tr>\n",
              "      <th>99488</th>\n",
              "      <td>40.006974</td>\n",
              "      <td>-75.289080</td>\n",
              "      <td>LANCASTER AVE &amp; RITTENHOUSE PL; LOWER MERION; ...</td>\n",
              "      <td>19003.0</td>\n",
              "      <td>Traffic: VEHICLE ACCIDENT -</td>\n",
              "      <td>2016-08-24 11:07:02</td>\n",
              "      <td>LOWER MERION</td>\n",
              "      <td>LANCASTER AVE &amp; RITTENHOUSE PL</td>\n",
              "      <td>1</td>\n",
              "    </tr>\n",
              "    <tr>\n",
              "      <th>99489</th>\n",
              "      <td>40.115429</td>\n",
              "      <td>-75.334679</td>\n",
              "      <td>CHESTNUT ST &amp; WALNUT ST;  NORRISTOWN; Station ...</td>\n",
              "      <td>19401.0</td>\n",
              "      <td>EMS: FALL VICTIM</td>\n",
              "      <td>2016-08-24 11:12:00</td>\n",
              "      <td>NORRISTOWN</td>\n",
              "      <td>CHESTNUT ST &amp; WALNUT ST</td>\n",
              "      <td>1</td>\n",
              "    </tr>\n",
              "    <tr>\n",
              "      <th>99490</th>\n",
              "      <td>40.186431</td>\n",
              "      <td>-75.192555</td>\n",
              "      <td>WELSH RD &amp; WEBSTER LN;  HORSHAM; Station 352; ...</td>\n",
              "      <td>19002.0</td>\n",
              "      <td>EMS: NAUSEA/VOMITING</td>\n",
              "      <td>2016-08-24 11:17:01</td>\n",
              "      <td>HORSHAM</td>\n",
              "      <td>WELSH RD &amp; WEBSTER LN</td>\n",
              "      <td>1</td>\n",
              "    </tr>\n",
              "    <tr>\n",
              "      <th>99491</th>\n",
              "      <td>40.207055</td>\n",
              "      <td>-75.317952</td>\n",
              "      <td>MORRIS RD &amp; S BROAD ST; UPPER GWYNEDD; 2016-08...</td>\n",
              "      <td>19446.0</td>\n",
              "      <td>Traffic: VEHICLE ACCIDENT -</td>\n",
              "      <td>2016-08-24 11:17:02</td>\n",
              "      <td>UPPER GWYNEDD</td>\n",
              "      <td>MORRIS RD &amp; S BROAD ST</td>\n",
              "      <td>1</td>\n",
              "    </tr>\n",
              "  </tbody>\n",
              "</table>\n",
              "<p>99492 rows × 9 columns</p>\n",
              "</div>"
            ],
            "text/plain": [
              "             lat        lng  ...                            addr  e\n",
              "0      40.297876 -75.581294  ...          REINDEER CT & DEAD END  1\n",
              "1      40.258061 -75.264680  ...      BRIAR PATH & WHITEMARSH LN  1\n",
              "2      40.121182 -75.351975  ...                        HAWS AVE  1\n",
              "3      40.116153 -75.343513  ...              AIRY ST & SWEDE ST  1\n",
              "4      40.251492 -75.603350  ...        CHERRYWOOD CT & DEAD END  1\n",
              "...          ...        ...  ...                             ... ..\n",
              "99487  40.132869 -75.333515  ...         MARKLEY ST & W LOGAN ST  1\n",
              "99488  40.006974 -75.289080  ...  LANCASTER AVE & RITTENHOUSE PL  1\n",
              "99489  40.115429 -75.334679  ...         CHESTNUT ST & WALNUT ST  1\n",
              "99490  40.186431 -75.192555  ...           WELSH RD & WEBSTER LN  1\n",
              "99491  40.207055 -75.317952  ...          MORRIS RD & S BROAD ST  1\n",
              "\n",
              "[99492 rows x 9 columns]"
            ]
          },
          "metadata": {},
          "execution_count": 4
        }
      ]
    },
    {
      "cell_type": "code",
      "metadata": {
        "id": "yii-pY6Ak8EC"
      },
      "source": [
        "#traduzindo/alterando nome das colunas para Português\n",
        "df = df.rename(columns={'lat':'Latitude',\n",
        "                  'lng':'Longitude',\n",
        "                   'desc':'Descrição',\n",
        "                   'zip':'CEP',\n",
        "                   'title':'Título',\n",
        "                   'timeStamp':'Data',\n",
        "                   'twp':'Município',\n",
        "                   'addr':'Endereço',\n",
        "                   'e':'Categoria'\n",
        "                   })"
      ],
      "execution_count": 5,
      "outputs": []
    },
    {
      "cell_type": "code",
      "metadata": {
        "colab": {
          "base_uri": "https://localhost:8080/",
          "height": 287
        },
        "id": "UHtuu7ppi9_O",
        "outputId": "85d45707-188f-491d-f97d-6e123a950832"
      },
      "source": [
        "#verificando cabeçalho do Dataset\n",
        "df.head()"
      ],
      "execution_count": 6,
      "outputs": [
        {
          "output_type": "execute_result",
          "data": {
            "text/html": [
              "<div>\n",
              "<style scoped>\n",
              "    .dataframe tbody tr th:only-of-type {\n",
              "        vertical-align: middle;\n",
              "    }\n",
              "\n",
              "    .dataframe tbody tr th {\n",
              "        vertical-align: top;\n",
              "    }\n",
              "\n",
              "    .dataframe thead th {\n",
              "        text-align: right;\n",
              "    }\n",
              "</style>\n",
              "<table border=\"1\" class=\"dataframe\">\n",
              "  <thead>\n",
              "    <tr style=\"text-align: right;\">\n",
              "      <th></th>\n",
              "      <th>Latitude</th>\n",
              "      <th>Longitude</th>\n",
              "      <th>Descrição</th>\n",
              "      <th>CEP</th>\n",
              "      <th>Título</th>\n",
              "      <th>Data</th>\n",
              "      <th>Município</th>\n",
              "      <th>Endereço</th>\n",
              "      <th>Categoria</th>\n",
              "    </tr>\n",
              "  </thead>\n",
              "  <tbody>\n",
              "    <tr>\n",
              "      <th>0</th>\n",
              "      <td>40.297876</td>\n",
              "      <td>-75.581294</td>\n",
              "      <td>REINDEER CT &amp; DEAD END;  NEW HANOVER; Station ...</td>\n",
              "      <td>19525.0</td>\n",
              "      <td>EMS: BACK PAINS/INJURY</td>\n",
              "      <td>2015-12-10 17:40:00</td>\n",
              "      <td>NEW HANOVER</td>\n",
              "      <td>REINDEER CT &amp; DEAD END</td>\n",
              "      <td>1</td>\n",
              "    </tr>\n",
              "    <tr>\n",
              "      <th>1</th>\n",
              "      <td>40.258061</td>\n",
              "      <td>-75.264680</td>\n",
              "      <td>BRIAR PATH &amp; WHITEMARSH LN;  HATFIELD TOWNSHIP...</td>\n",
              "      <td>19446.0</td>\n",
              "      <td>EMS: DIABETIC EMERGENCY</td>\n",
              "      <td>2015-12-10 17:40:00</td>\n",
              "      <td>HATFIELD TOWNSHIP</td>\n",
              "      <td>BRIAR PATH &amp; WHITEMARSH LN</td>\n",
              "      <td>1</td>\n",
              "    </tr>\n",
              "    <tr>\n",
              "      <th>2</th>\n",
              "      <td>40.121182</td>\n",
              "      <td>-75.351975</td>\n",
              "      <td>HAWS AVE; NORRISTOWN; 2015-12-10 @ 14:39:21-St...</td>\n",
              "      <td>19401.0</td>\n",
              "      <td>Fire: GAS-ODOR/LEAK</td>\n",
              "      <td>2015-12-10 17:40:00</td>\n",
              "      <td>NORRISTOWN</td>\n",
              "      <td>HAWS AVE</td>\n",
              "      <td>1</td>\n",
              "    </tr>\n",
              "    <tr>\n",
              "      <th>3</th>\n",
              "      <td>40.116153</td>\n",
              "      <td>-75.343513</td>\n",
              "      <td>AIRY ST &amp; SWEDE ST;  NORRISTOWN; Station 308A;...</td>\n",
              "      <td>19401.0</td>\n",
              "      <td>EMS: CARDIAC EMERGENCY</td>\n",
              "      <td>2015-12-10 17:40:01</td>\n",
              "      <td>NORRISTOWN</td>\n",
              "      <td>AIRY ST &amp; SWEDE ST</td>\n",
              "      <td>1</td>\n",
              "    </tr>\n",
              "    <tr>\n",
              "      <th>4</th>\n",
              "      <td>40.251492</td>\n",
              "      <td>-75.603350</td>\n",
              "      <td>CHERRYWOOD CT &amp; DEAD END;  LOWER POTTSGROVE; S...</td>\n",
              "      <td>NaN</td>\n",
              "      <td>EMS: DIZZINESS</td>\n",
              "      <td>2015-12-10 17:40:01</td>\n",
              "      <td>LOWER POTTSGROVE</td>\n",
              "      <td>CHERRYWOOD CT &amp; DEAD END</td>\n",
              "      <td>1</td>\n",
              "    </tr>\n",
              "  </tbody>\n",
              "</table>\n",
              "</div>"
            ],
            "text/plain": [
              "    Latitude  Longitude  ...                    Endereço  Categoria\n",
              "0  40.297876 -75.581294  ...      REINDEER CT & DEAD END          1\n",
              "1  40.258061 -75.264680  ...  BRIAR PATH & WHITEMARSH LN          1\n",
              "2  40.121182 -75.351975  ...                    HAWS AVE          1\n",
              "3  40.116153 -75.343513  ...          AIRY ST & SWEDE ST          1\n",
              "4  40.251492 -75.603350  ...    CHERRYWOOD CT & DEAD END          1\n",
              "\n",
              "[5 rows x 9 columns]"
            ]
          },
          "metadata": {},
          "execution_count": 6
        }
      ]
    },
    {
      "cell_type": "code",
      "metadata": {
        "colab": {
          "base_uri": "https://localhost:8080/"
        },
        "id": "9u3P8ILhgwKl",
        "outputId": "9ad97317-fde1-4887-a47e-c99a74eb82da"
      },
      "source": [
        "#analisando informações do dataset\n",
        "df.info()"
      ],
      "execution_count": 23,
      "outputs": [
        {
          "output_type": "stream",
          "text": [
            "<class 'pandas.core.frame.DataFrame'>\n",
            "RangeIndex: 99492 entries, 0 to 99491\n",
            "Data columns (total 9 columns):\n",
            " #   Column     Non-Null Count  Dtype  \n",
            "---  ------     --------------  -----  \n",
            " 0   Latitude   99492 non-null  float64\n",
            " 1   Longitude  99492 non-null  float64\n",
            " 2   Descrição  99492 non-null  object \n",
            " 3   CEP        86637 non-null  float64\n",
            " 4   Título     99492 non-null  object \n",
            " 5   Data       99492 non-null  object \n",
            " 6   Município  99449 non-null  object \n",
            " 7   Endereço   98973 non-null  object \n",
            " 8   Categoria  99492 non-null  int64  \n",
            "dtypes: float64(3), int64(1), object(5)\n",
            "memory usage: 6.8+ MB\n"
          ],
          "name": "stdout"
        }
      ]
    },
    {
      "cell_type": "code",
      "metadata": {
        "colab": {
          "base_uri": "https://localhost:8080/"
        },
        "id": "_CNFkjDrnKGj",
        "outputId": "c80c67ad-19ae-4fcf-d76a-3be57bb6106e"
      },
      "source": [
        "#analisando total de linhas e colunas\n",
        "df.shape"
      ],
      "execution_count": 8,
      "outputs": [
        {
          "output_type": "execute_result",
          "data": {
            "text/plain": [
              "(99492, 9)"
            ]
          },
          "metadata": {},
          "execution_count": 8
        }
      ]
    },
    {
      "cell_type": "code",
      "metadata": {
        "colab": {
          "base_uri": "https://localhost:8080/"
        },
        "id": "-fBu1xO9ngMQ",
        "outputId": "10464002-76a4-431f-f9d7-4f0f52f4ae91"
      },
      "source": [
        "#verificando nome das colunas\n",
        "df.columns"
      ],
      "execution_count": 9,
      "outputs": [
        {
          "output_type": "execute_result",
          "data": {
            "text/plain": [
              "Index(['Latitude', 'Longitude', 'Descrição', 'CEP', 'Título', 'Data',\n",
              "       'Município', 'Endereço', 'Categoria'],\n",
              "      dtype='object')"
            ]
          },
          "metadata": {},
          "execution_count": 9
        }
      ]
    },
    {
      "cell_type": "code",
      "metadata": {
        "colab": {
          "base_uri": "https://localhost:8080/"
        },
        "id": "DCFUPfM-OTyx",
        "outputId": "f7eb88f7-bd9b-484d-e9af-220ff593b137"
      },
      "source": [
        "#analisando dados nulos\n",
        "df.isnull().sum()"
      ],
      "execution_count": 10,
      "outputs": [
        {
          "output_type": "execute_result",
          "data": {
            "text/plain": [
              "Latitude         0\n",
              "Longitude        0\n",
              "Descrição        0\n",
              "CEP          12855\n",
              "Título           0\n",
              "Data             0\n",
              "Município       43\n",
              "Endereço       519\n",
              "Categoria        0\n",
              "dtype: int64"
            ]
          },
          "metadata": {},
          "execution_count": 10
        }
      ]
    },
    {
      "cell_type": "markdown",
      "metadata": {
        "id": "39Vuy1KoOUyR"
      },
      "source": [
        "### Análise:\n",
        "\n",
        "Verificamos inicialmente que o Dataset possui 99.492 linhas, contendo 9 colunas de dados com as informações sobre chamadas de Emergência. \n",
        "\n",
        "Total de chamadas para o número de Emergência: 99.492 \n",
        "\n",
        "Os tipos de dados utilizados no Dataset são: float64(3), int64(1), object(5) e ocupam um total de aproximadamente 6.8 mb.\n",
        "\n",
        "Importante notar que o Dataset possui dados nulos nas Colunas CEP, Município e Endereço. \n",
        "\n",
        "Obs: (Para esta análise, decidi não remover/tratar as linhas com valores nulos.)\n"
      ]
    },
    {
      "cell_type": "code",
      "metadata": {
        "colab": {
          "base_uri": "https://localhost:8080/",
          "height": 287
        },
        "id": "T8QrrLxzmn1v",
        "outputId": "625b2a99-791d-4a5f-c396-48a56c78510e"
      },
      "source": [
        "#analisando 5 primeiras linhas\n",
        "df.head()"
      ],
      "execution_count": 11,
      "outputs": [
        {
          "output_type": "execute_result",
          "data": {
            "text/html": [
              "<div>\n",
              "<style scoped>\n",
              "    .dataframe tbody tr th:only-of-type {\n",
              "        vertical-align: middle;\n",
              "    }\n",
              "\n",
              "    .dataframe tbody tr th {\n",
              "        vertical-align: top;\n",
              "    }\n",
              "\n",
              "    .dataframe thead th {\n",
              "        text-align: right;\n",
              "    }\n",
              "</style>\n",
              "<table border=\"1\" class=\"dataframe\">\n",
              "  <thead>\n",
              "    <tr style=\"text-align: right;\">\n",
              "      <th></th>\n",
              "      <th>Latitude</th>\n",
              "      <th>Longitude</th>\n",
              "      <th>Descrição</th>\n",
              "      <th>CEP</th>\n",
              "      <th>Título</th>\n",
              "      <th>Data</th>\n",
              "      <th>Município</th>\n",
              "      <th>Endereço</th>\n",
              "      <th>Categoria</th>\n",
              "    </tr>\n",
              "  </thead>\n",
              "  <tbody>\n",
              "    <tr>\n",
              "      <th>0</th>\n",
              "      <td>40.297876</td>\n",
              "      <td>-75.581294</td>\n",
              "      <td>REINDEER CT &amp; DEAD END;  NEW HANOVER; Station ...</td>\n",
              "      <td>19525.0</td>\n",
              "      <td>EMS: BACK PAINS/INJURY</td>\n",
              "      <td>2015-12-10 17:40:00</td>\n",
              "      <td>NEW HANOVER</td>\n",
              "      <td>REINDEER CT &amp; DEAD END</td>\n",
              "      <td>1</td>\n",
              "    </tr>\n",
              "    <tr>\n",
              "      <th>1</th>\n",
              "      <td>40.258061</td>\n",
              "      <td>-75.264680</td>\n",
              "      <td>BRIAR PATH &amp; WHITEMARSH LN;  HATFIELD TOWNSHIP...</td>\n",
              "      <td>19446.0</td>\n",
              "      <td>EMS: DIABETIC EMERGENCY</td>\n",
              "      <td>2015-12-10 17:40:00</td>\n",
              "      <td>HATFIELD TOWNSHIP</td>\n",
              "      <td>BRIAR PATH &amp; WHITEMARSH LN</td>\n",
              "      <td>1</td>\n",
              "    </tr>\n",
              "    <tr>\n",
              "      <th>2</th>\n",
              "      <td>40.121182</td>\n",
              "      <td>-75.351975</td>\n",
              "      <td>HAWS AVE; NORRISTOWN; 2015-12-10 @ 14:39:21-St...</td>\n",
              "      <td>19401.0</td>\n",
              "      <td>Fire: GAS-ODOR/LEAK</td>\n",
              "      <td>2015-12-10 17:40:00</td>\n",
              "      <td>NORRISTOWN</td>\n",
              "      <td>HAWS AVE</td>\n",
              "      <td>1</td>\n",
              "    </tr>\n",
              "    <tr>\n",
              "      <th>3</th>\n",
              "      <td>40.116153</td>\n",
              "      <td>-75.343513</td>\n",
              "      <td>AIRY ST &amp; SWEDE ST;  NORRISTOWN; Station 308A;...</td>\n",
              "      <td>19401.0</td>\n",
              "      <td>EMS: CARDIAC EMERGENCY</td>\n",
              "      <td>2015-12-10 17:40:01</td>\n",
              "      <td>NORRISTOWN</td>\n",
              "      <td>AIRY ST &amp; SWEDE ST</td>\n",
              "      <td>1</td>\n",
              "    </tr>\n",
              "    <tr>\n",
              "      <th>4</th>\n",
              "      <td>40.251492</td>\n",
              "      <td>-75.603350</td>\n",
              "      <td>CHERRYWOOD CT &amp; DEAD END;  LOWER POTTSGROVE; S...</td>\n",
              "      <td>NaN</td>\n",
              "      <td>EMS: DIZZINESS</td>\n",
              "      <td>2015-12-10 17:40:01</td>\n",
              "      <td>LOWER POTTSGROVE</td>\n",
              "      <td>CHERRYWOOD CT &amp; DEAD END</td>\n",
              "      <td>1</td>\n",
              "    </tr>\n",
              "  </tbody>\n",
              "</table>\n",
              "</div>"
            ],
            "text/plain": [
              "    Latitude  Longitude  ...                    Endereço  Categoria\n",
              "0  40.297876 -75.581294  ...      REINDEER CT & DEAD END          1\n",
              "1  40.258061 -75.264680  ...  BRIAR PATH & WHITEMARSH LN          1\n",
              "2  40.121182 -75.351975  ...                    HAWS AVE          1\n",
              "3  40.116153 -75.343513  ...          AIRY ST & SWEDE ST          1\n",
              "4  40.251492 -75.603350  ...    CHERRYWOOD CT & DEAD END          1\n",
              "\n",
              "[5 rows x 9 columns]"
            ]
          },
          "metadata": {},
          "execution_count": 11
        }
      ]
    },
    {
      "cell_type": "code",
      "metadata": {
        "colab": {
          "base_uri": "https://localhost:8080/",
          "height": 287
        },
        "id": "dPcZ2jq2oEJ6",
        "outputId": "b3686ea8-e1d4-4b45-e730-d7efd0d93fc3"
      },
      "source": [
        "#analisando 5 últimas linhas\n",
        "df.tail()"
      ],
      "execution_count": 12,
      "outputs": [
        {
          "output_type": "execute_result",
          "data": {
            "text/html": [
              "<div>\n",
              "<style scoped>\n",
              "    .dataframe tbody tr th:only-of-type {\n",
              "        vertical-align: middle;\n",
              "    }\n",
              "\n",
              "    .dataframe tbody tr th {\n",
              "        vertical-align: top;\n",
              "    }\n",
              "\n",
              "    .dataframe thead th {\n",
              "        text-align: right;\n",
              "    }\n",
              "</style>\n",
              "<table border=\"1\" class=\"dataframe\">\n",
              "  <thead>\n",
              "    <tr style=\"text-align: right;\">\n",
              "      <th></th>\n",
              "      <th>Latitude</th>\n",
              "      <th>Longitude</th>\n",
              "      <th>Descrição</th>\n",
              "      <th>CEP</th>\n",
              "      <th>Título</th>\n",
              "      <th>Data</th>\n",
              "      <th>Município</th>\n",
              "      <th>Endereço</th>\n",
              "      <th>Categoria</th>\n",
              "    </tr>\n",
              "  </thead>\n",
              "  <tbody>\n",
              "    <tr>\n",
              "      <th>99487</th>\n",
              "      <td>40.132869</td>\n",
              "      <td>-75.333515</td>\n",
              "      <td>MARKLEY ST &amp; W LOGAN ST; NORRISTOWN; 2016-08-2...</td>\n",
              "      <td>19401.0</td>\n",
              "      <td>Traffic: VEHICLE ACCIDENT -</td>\n",
              "      <td>2016-08-24 11:06:00</td>\n",
              "      <td>NORRISTOWN</td>\n",
              "      <td>MARKLEY ST &amp; W LOGAN ST</td>\n",
              "      <td>1</td>\n",
              "    </tr>\n",
              "    <tr>\n",
              "      <th>99488</th>\n",
              "      <td>40.006974</td>\n",
              "      <td>-75.289080</td>\n",
              "      <td>LANCASTER AVE &amp; RITTENHOUSE PL; LOWER MERION; ...</td>\n",
              "      <td>19003.0</td>\n",
              "      <td>Traffic: VEHICLE ACCIDENT -</td>\n",
              "      <td>2016-08-24 11:07:02</td>\n",
              "      <td>LOWER MERION</td>\n",
              "      <td>LANCASTER AVE &amp; RITTENHOUSE PL</td>\n",
              "      <td>1</td>\n",
              "    </tr>\n",
              "    <tr>\n",
              "      <th>99489</th>\n",
              "      <td>40.115429</td>\n",
              "      <td>-75.334679</td>\n",
              "      <td>CHESTNUT ST &amp; WALNUT ST;  NORRISTOWN; Station ...</td>\n",
              "      <td>19401.0</td>\n",
              "      <td>EMS: FALL VICTIM</td>\n",
              "      <td>2016-08-24 11:12:00</td>\n",
              "      <td>NORRISTOWN</td>\n",
              "      <td>CHESTNUT ST &amp; WALNUT ST</td>\n",
              "      <td>1</td>\n",
              "    </tr>\n",
              "    <tr>\n",
              "      <th>99490</th>\n",
              "      <td>40.186431</td>\n",
              "      <td>-75.192555</td>\n",
              "      <td>WELSH RD &amp; WEBSTER LN;  HORSHAM; Station 352; ...</td>\n",
              "      <td>19002.0</td>\n",
              "      <td>EMS: NAUSEA/VOMITING</td>\n",
              "      <td>2016-08-24 11:17:01</td>\n",
              "      <td>HORSHAM</td>\n",
              "      <td>WELSH RD &amp; WEBSTER LN</td>\n",
              "      <td>1</td>\n",
              "    </tr>\n",
              "    <tr>\n",
              "      <th>99491</th>\n",
              "      <td>40.207055</td>\n",
              "      <td>-75.317952</td>\n",
              "      <td>MORRIS RD &amp; S BROAD ST; UPPER GWYNEDD; 2016-08...</td>\n",
              "      <td>19446.0</td>\n",
              "      <td>Traffic: VEHICLE ACCIDENT -</td>\n",
              "      <td>2016-08-24 11:17:02</td>\n",
              "      <td>UPPER GWYNEDD</td>\n",
              "      <td>MORRIS RD &amp; S BROAD ST</td>\n",
              "      <td>1</td>\n",
              "    </tr>\n",
              "  </tbody>\n",
              "</table>\n",
              "</div>"
            ],
            "text/plain": [
              "        Latitude  Longitude  ...                        Endereço  Categoria\n",
              "99487  40.132869 -75.333515  ...         MARKLEY ST & W LOGAN ST          1\n",
              "99488  40.006974 -75.289080  ...  LANCASTER AVE & RITTENHOUSE PL          1\n",
              "99489  40.115429 -75.334679  ...         CHESTNUT ST & WALNUT ST          1\n",
              "99490  40.186431 -75.192555  ...           WELSH RD & WEBSTER LN          1\n",
              "99491  40.207055 -75.317952  ...          MORRIS RD & S BROAD ST          1\n",
              "\n",
              "[5 rows x 9 columns]"
            ]
          },
          "metadata": {},
          "execution_count": 12
        }
      ]
    },
    {
      "cell_type": "code",
      "metadata": {
        "colab": {
          "base_uri": "https://localhost:8080/"
        },
        "id": "sKV7Ksvlm8nR",
        "outputId": "12f4c3fc-3e77-45cb-cc37-642313fbdd85"
      },
      "source": [
        "#analisando tipo de dados das colunas\n",
        "df.dtypes"
      ],
      "execution_count": 13,
      "outputs": [
        {
          "output_type": "execute_result",
          "data": {
            "text/plain": [
              "Latitude     float64\n",
              "Longitude    float64\n",
              "Descrição     object\n",
              "CEP          float64\n",
              "Título        object\n",
              "Data          object\n",
              "Município     object\n",
              "Endereço      object\n",
              "Categoria      int64\n",
              "dtype: object"
            ]
          },
          "metadata": {},
          "execution_count": 13
        }
      ]
    },
    {
      "cell_type": "code",
      "metadata": {
        "colab": {
          "base_uri": "https://localhost:8080/",
          "height": 295
        },
        "id": "s94CQWMfn0JG",
        "outputId": "796acec4-d861-4cb7-b065-34e6f59f55e5"
      },
      "source": [
        "#verificando informações Estatísticas do dataset\n",
        "df.describe()"
      ],
      "execution_count": 22,
      "outputs": [
        {
          "output_type": "execute_result",
          "data": {
            "text/html": [
              "<div>\n",
              "<style scoped>\n",
              "    .dataframe tbody tr th:only-of-type {\n",
              "        vertical-align: middle;\n",
              "    }\n",
              "\n",
              "    .dataframe tbody tr th {\n",
              "        vertical-align: top;\n",
              "    }\n",
              "\n",
              "    .dataframe thead th {\n",
              "        text-align: right;\n",
              "    }\n",
              "</style>\n",
              "<table border=\"1\" class=\"dataframe\">\n",
              "  <thead>\n",
              "    <tr style=\"text-align: right;\">\n",
              "      <th></th>\n",
              "      <th>Latitude</th>\n",
              "      <th>Longitude</th>\n",
              "      <th>CEP</th>\n",
              "      <th>Categoria</th>\n",
              "    </tr>\n",
              "  </thead>\n",
              "  <tbody>\n",
              "    <tr>\n",
              "      <th>count</th>\n",
              "      <td>99492.000000</td>\n",
              "      <td>99492.000000</td>\n",
              "      <td>86637.000000</td>\n",
              "      <td>99492.0</td>\n",
              "    </tr>\n",
              "    <tr>\n",
              "      <th>mean</th>\n",
              "      <td>40.159526</td>\n",
              "      <td>-75.317464</td>\n",
              "      <td>19237.658298</td>\n",
              "      <td>1.0</td>\n",
              "    </tr>\n",
              "    <tr>\n",
              "      <th>std</th>\n",
              "      <td>0.094446</td>\n",
              "      <td>0.174826</td>\n",
              "      <td>345.344914</td>\n",
              "      <td>0.0</td>\n",
              "    </tr>\n",
              "    <tr>\n",
              "      <th>min</th>\n",
              "      <td>30.333596</td>\n",
              "      <td>-95.595595</td>\n",
              "      <td>17752.000000</td>\n",
              "      <td>1.0</td>\n",
              "    </tr>\n",
              "    <tr>\n",
              "      <th>25%</th>\n",
              "      <td>40.100423</td>\n",
              "      <td>-75.392104</td>\n",
              "      <td>19038.000000</td>\n",
              "      <td>1.0</td>\n",
              "    </tr>\n",
              "    <tr>\n",
              "      <th>50%</th>\n",
              "      <td>40.145223</td>\n",
              "      <td>-75.304667</td>\n",
              "      <td>19401.000000</td>\n",
              "      <td>1.0</td>\n",
              "    </tr>\n",
              "    <tr>\n",
              "      <th>75%</th>\n",
              "      <td>40.229008</td>\n",
              "      <td>-75.212513</td>\n",
              "      <td>19446.000000</td>\n",
              "      <td>1.0</td>\n",
              "    </tr>\n",
              "    <tr>\n",
              "      <th>max</th>\n",
              "      <td>41.167156</td>\n",
              "      <td>-74.995041</td>\n",
              "      <td>77316.000000</td>\n",
              "      <td>1.0</td>\n",
              "    </tr>\n",
              "  </tbody>\n",
              "</table>\n",
              "</div>"
            ],
            "text/plain": [
              "           Latitude     Longitude           CEP  Categoria\n",
              "count  99492.000000  99492.000000  86637.000000    99492.0\n",
              "mean      40.159526    -75.317464  19237.658298        1.0\n",
              "std        0.094446      0.174826    345.344914        0.0\n",
              "min       30.333596    -95.595595  17752.000000        1.0\n",
              "25%       40.100423    -75.392104  19038.000000        1.0\n",
              "50%       40.145223    -75.304667  19401.000000        1.0\n",
              "75%       40.229008    -75.212513  19446.000000        1.0\n",
              "max       41.167156    -74.995041  77316.000000        1.0"
            ]
          },
          "metadata": {},
          "execution_count": 22
        }
      ]
    },
    {
      "cell_type": "code",
      "metadata": {
        "colab": {
          "base_uri": "https://localhost:8080/"
        },
        "id": "2uZhCp_DoUA5",
        "outputId": "c8cd45b7-067c-4c27-b953-6cf27aa64048"
      },
      "source": [
        "#analisando top 5 datas das chamadas 911\n",
        "df['Data'].value_counts().head()\n"
      ],
      "execution_count": 39,
      "outputs": [
        {
          "output_type": "execute_result",
          "data": {
            "text/plain": [
              "2015-12-10 17:40:01    8\n",
              "2016-04-21 17:57:01    7\n",
              "2015-12-23 14:12:01    7\n",
              "2016-05-23 14:22:01    6\n",
              "2016-07-31 12:42:01    6\n",
              "Name: Data, dtype: int64"
            ]
          },
          "metadata": {},
          "execution_count": 39
        }
      ]
    },
    {
      "cell_type": "code",
      "metadata": {
        "id": "2wNLJGy5pOK4",
        "colab": {
          "base_uri": "https://localhost:8080/"
        },
        "outputId": "b860efc3-6f84-436c-cdf4-a2b6fbbd39d2"
      },
      "source": [
        "#analisando top 5 municípios das chamadas\n",
        "df['Município'].value_counts().head()\n"
      ],
      "execution_count": 31,
      "outputs": [
        {
          "output_type": "execute_result",
          "data": {
            "text/plain": [
              "LOWER MERION    8443\n",
              "ABINGTON        5977\n",
              "NORRISTOWN      5890\n",
              "UPPER MERION    5227\n",
              "CHELTENHAM      4575\n",
              "Name: Município, dtype: int64"
            ]
          },
          "metadata": {},
          "execution_count": 31
        }
      ]
    },
    {
      "cell_type": "markdown",
      "metadata": {
        "id": "dji1x17YNVjz"
      },
      "source": [
        "### Análise:\n",
        "\n",
        "Podemos observar que o município de \"Lower Merion\" possuí um aumento significativo no total de número de chamadas se comparado aos outros 4 primeiros Municípios."
      ]
    },
    {
      "cell_type": "code",
      "metadata": {
        "colab": {
          "base_uri": "https://localhost:8080/"
        },
        "id": "gjX_Yg9frQ4r",
        "outputId": "76be1f12-a46a-462d-c3b5-0c8fc37409a9"
      },
      "source": [
        "#analisando de Títulos das chamadas\n",
        "df['Título'].unique()"
      ],
      "execution_count": 16,
      "outputs": [
        {
          "output_type": "execute_result",
          "data": {
            "text/plain": [
              "array(['EMS: BACK PAINS/INJURY', 'EMS: DIABETIC EMERGENCY',\n",
              "       'Fire: GAS-ODOR/LEAK', 'EMS: CARDIAC EMERGENCY', 'EMS: DIZZINESS',\n",
              "       'EMS: HEAD INJURY', 'EMS: NAUSEA/VOMITING',\n",
              "       'EMS: RESPIRATORY EMERGENCY', 'EMS: SYNCOPAL EPISODE',\n",
              "       'Traffic: VEHICLE ACCIDENT -', 'EMS: VEHICLE ACCIDENT',\n",
              "       'Traffic: DISABLED VEHICLE -', 'Fire: APPLIANCE FIRE',\n",
              "       'EMS: GENERAL WEAKNESS', 'Fire: CARBON MONOXIDE DETECTOR',\n",
              "       'EMS: UNKNOWN MEDICAL EMERGENCY', 'EMS: UNRESPONSIVE SUBJECT',\n",
              "       'Fire: VEHICLE ACCIDENT', 'EMS: ALTERED MENTAL STATUS',\n",
              "       'Fire: FIRE ALARM', 'EMS: CVA/STROKE',\n",
              "       'Traffic: ROAD OBSTRUCTION -', 'EMS: SUBJECT IN PAIN',\n",
              "       'EMS: HEMORRHAGING', 'EMS: FALL VICTIM', 'EMS: ASSAULT VICTIM',\n",
              "       'EMS: SEIZURES', 'EMS: MEDICAL ALERT ALARM',\n",
              "       'EMS: ABDOMINAL PAINS', 'Fire: PUMP DETAIL',\n",
              "       'Fire: FIRE INVESTIGATION', 'EMS: OVERDOSE', 'EMS: MATERNITY',\n",
              "       'EMS: UNCONSCIOUS SUBJECT', 'EMS: CHOKING', 'EMS: LACERATIONS',\n",
              "       'Fire: TRASH/DUMPSTER FIRE', 'Fire: UNKNOWN TYPE FIRE',\n",
              "       'Fire: BUILDING FIRE', 'Fire: ELECTRICAL FIRE OUTSIDE',\n",
              "       'Fire: DEBRIS/FLUIDS ON HIGHWAY',\n",
              "       'Traffic: DEBRIS/FLUIDS ON HIGHWAY -', 'EMS: FEVER',\n",
              "       'EMS: ALLERGIC REACTION', 'Traffic: VEHICLE LEAKING FUEL -',\n",
              "       'EMS: FRACTURE', 'Fire: BURN VICTIM', 'EMS: BURN VICTIM',\n",
              "       'Fire: RESCUE - GENERAL', 'Fire: WOODS/FIELD FIRE',\n",
              "       'EMS: RESCUE - GENERAL', 'Fire: FIRE SPECIAL SERVICE',\n",
              "       'Fire: VEHICLE FIRE', 'Traffic: VEHICLE FIRE -',\n",
              "       'EMS: WARRANT SERVICE', 'Fire: S/B AT HELICOPTER LANDING',\n",
              "       'EMS: EMS SPECIAL SERVICE', 'Traffic: HAZARDOUS ROAD CONDITIONS -',\n",
              "       'Fire: RESCUE - ELEVATOR', 'EMS: FIRE SPECIAL SERVICE',\n",
              "       'EMS: DEHYDRATION', 'EMS: CARBON MONOXIDE DETECTOR',\n",
              "       'EMS: BUILDING FIRE', 'EMS: APPLIANCE FIRE', 'EMS: SHOOTING',\n",
              "       'EMS: POISONING', 'Fire: TRANSFERRED CALL',\n",
              "       'Fire: RESCUE - TECHNICAL', 'EMS: RESCUE - TECHNICAL',\n",
              "       'Fire: VEHICLE LEAKING FUEL', 'EMS: EYE INJURY',\n",
              "       'EMS: ELECTROCUTION', 'EMS: STABBING', 'Fire: FIRE POLICE NEEDED',\n",
              "       'EMS: AMPUTATION', 'EMS: ANIMAL BITE', 'EMS: FIRE ALARM',\n",
              "       'EMS: VEHICLE FIRE', 'EMS: HAZARDOUS MATERIALS INCIDENT',\n",
              "       'EMS: RESCUE - ELEVATOR', 'EMS: FIRE INVESTIGATION',\n",
              "       'Fire: MEDICAL ALERT ALARM', 'EMS: UNKNOWN TYPE FIRE',\n",
              "       'EMS: GAS-ODOR/LEAK', 'Fire: TRAIN CRASH',\n",
              "       'Fire: HAZARDOUS MATERIALS INCIDENT', 'EMS: TRANSFERRED CALL',\n",
              "       'EMS: TRAIN CRASH', 'EMS: RESCUE - WATER',\n",
              "       'EMS: S/B AT HELICOPTER LANDING',\n",
              "       'Fire: UNKNOWN MEDICAL EMERGENCY', 'Fire: RESCUE - WATER',\n",
              "       'EMS: CARDIAC ARREST', 'EMS: PLANE CRASH', 'Fire: PLANE CRASH',\n",
              "       'EMS: WOODS/FIELD FIRE', 'Fire: CARDIAC ARREST',\n",
              "       'Fire: EMS SPECIAL SERVICE', 'Fire: UNCONSCIOUS SUBJECT',\n",
              "       'EMS: HEAT EXHAUSTION', 'EMS: DEBRIS/FLUIDS ON HIGHWAY',\n",
              "       'EMS: ACTIVE SHOOTER', 'EMS: DISABLED VEHICLE',\n",
              "       'Fire: POLICE INFORMATION', 'Fire: DIABETIC EMERGENCY',\n",
              "       'EMS: BOMB DEVICE FOUND', 'Fire: SYNCOPAL EPISODE',\n",
              "       'EMS: INDUSTRIAL ACCIDENT', 'EMS: DROWNING', 'EMS: SUSPICIOUS'],\n",
              "      dtype=object)"
            ]
          },
          "metadata": {},
          "execution_count": 16
        }
      ]
    },
    {
      "cell_type": "code",
      "metadata": {
        "colab": {
          "base_uri": "https://localhost:8080/"
        },
        "id": "CteSss9KsIKz",
        "outputId": "cd5d3ab2-abd5-4967-c7ca-cabac29cbd18"
      },
      "source": [
        "#analisando total de tipos de Títulos\n",
        "df['Título'].nunique()"
      ],
      "execution_count": 17,
      "outputs": [
        {
          "output_type": "execute_result",
          "data": {
            "text/plain": [
              "110"
            ]
          },
          "metadata": {},
          "execution_count": 17
        }
      ]
    },
    {
      "cell_type": "code",
      "metadata": {
        "colab": {
          "base_uri": "https://localhost:8080/"
        },
        "id": "0OTmdy78sd2s",
        "outputId": "b19a46c2-075c-452b-deee-e35546a071ef"
      },
      "source": [
        "#analisando top 10 motívos das chamadas para o 911\n",
        "dftitulo = df['Título'].value_counts().head(10)\n",
        "dftitulo"
      ],
      "execution_count": 112,
      "outputs": [
        {
          "output_type": "execute_result",
          "data": {
            "text/plain": [
              "Traffic: VEHICLE ACCIDENT -    23066\n",
              "Traffic: DISABLED VEHICLE -     7702\n",
              "Fire: FIRE ALARM                5496\n",
              "EMS: RESPIRATORY EMERGENCY      5112\n",
              "EMS: CARDIAC EMERGENCY          5012\n",
              "EMS: FALL VICTIM                4863\n",
              "EMS: VEHICLE ACCIDENT           3935\n",
              "Traffic: ROAD OBSTRUCTION -     3144\n",
              "EMS: SUBJECT IN PAIN            2687\n",
              "EMS: HEAD INJURY                2631\n",
              "Name: Título, dtype: int64"
            ]
          },
          "metadata": {},
          "execution_count": 112
        }
      ]
    },
    {
      "cell_type": "markdown",
      "metadata": {
        "id": "4WFm8EAjXhnZ"
      },
      "source": [
        "### Análise:\n",
        "\n",
        "Com base nos dados, verificamos que as chamadas de \"VEHICLE ACCIDENT\" (acidentes de veículos) são as mais recebidas pelo número de Emergência 911.\n",
        "\n",
        "Devido a esses números, podemos sugerir as autoridades do Condado de Montgomery um maior investimento no treinamento de equipes e equipamentos utilizados para esse tipo de resgate. Uma possível revisão nas políticas de trânsito e maior fiscalização podem vir a colaborar para a diminuição desses números."
      ]
    },
    {
      "cell_type": "code",
      "metadata": {
        "colab": {
          "base_uri": "https://localhost:8080/"
        },
        "id": "RAbKGrsjtQIe",
        "outputId": "58ca51f7-1c70-4919-b184-c321079270db"
      },
      "source": [
        "#analisando top 5 endereços de chamadas\n",
        "df['Endereço'].value_counts().head()"
      ],
      "execution_count": 117,
      "outputs": [
        {
          "output_type": "execute_result",
          "data": {
            "text/plain": [
              "SHANNONDELL DR & SHANNONDELL BLVD    938\n",
              "MAIN ST & OLD SUMNEYTOWN PIKE        390\n",
              "THE FAIRWAY  & RYDAL RD              260\n",
              "GULPH RD & KIRK AVE                  235\n",
              "EVERGREEN RD & W LIGHTCAP RD         232\n",
              "Name: Endereço, dtype: int64"
            ]
          },
          "metadata": {},
          "execution_count": 117
        }
      ]
    },
    {
      "cell_type": "markdown",
      "metadata": {
        "id": "4p2H7g12a3O6"
      },
      "source": [
        "### Análise:\n",
        "\n",
        "Há uma grande concentração de chamadas realizadas no endereço \"SHANNONDELL DR & SHANNONDELL BLVD\". \n",
        "\n",
        "Pode-se sugerir as autoridades um aumento na fiscalização e policiamento neste endereço afim de tentar diminuir chamadas de Emergência neste local."
      ]
    },
    {
      "cell_type": "code",
      "metadata": {
        "id": "jXwjX5b0wllk"
      },
      "source": [
        "#convertendo a coluna Data de string para Datetime\n",
        "df['Data'] = pd.to_datetime(df['Data'])"
      ],
      "execution_count": 42,
      "outputs": []
    },
    {
      "cell_type": "code",
      "metadata": {
        "colab": {
          "base_uri": "https://localhost:8080/"
        },
        "id": "hiTZobdZwn7v",
        "outputId": "4570fed7-546a-4ab0-8dbd-60c5335cac9c"
      },
      "source": [
        "#verificando se conversão ocorreu corretamente\n",
        "df['Data'].iloc[3]"
      ],
      "execution_count": 43,
      "outputs": [
        {
          "output_type": "execute_result",
          "data": {
            "text/plain": [
              "Timestamp('2015-12-10 17:40:01')"
            ]
          },
          "metadata": {},
          "execution_count": 43
        }
      ]
    },
    {
      "cell_type": "code",
      "metadata": {
        "id": "535TkTGX8FMl"
      },
      "source": [
        "#criando novas colunas para refinar a análise de dados\n",
        "df['Hora'] = df['Data'].apply(lambda x: x.hour)\n",
        "df['Mês'] = df['Data'].apply(lambda x: x.month)\n",
        "df['Dia da Semana'] = df['Data'].apply(lambda x: x.dayofweek)"
      ],
      "execution_count": 44,
      "outputs": []
    },
    {
      "cell_type": "code",
      "metadata": {
        "colab": {
          "base_uri": "https://localhost:8080/"
        },
        "id": "EMLLKlfz806A",
        "outputId": "6d21adec-228d-4d47-e6d1-c740257d144d"
      },
      "source": [
        "#contando total de ligações em mensal\n",
        "df['Mês'].value_counts()"
      ],
      "execution_count": 45,
      "outputs": [
        {
          "output_type": "execute_result",
          "data": {
            "text/plain": [
              "1     13205\n",
              "7     12137\n",
              "6     11786\n",
              "2     11467\n",
              "5     11423\n",
              "4     11326\n",
              "3     11101\n",
              "8      9078\n",
              "12     7969\n",
              "Name: Mês, dtype: int64"
            ]
          },
          "metadata": {},
          "execution_count": 45
        }
      ]
    },
    {
      "cell_type": "markdown",
      "metadata": {
        "id": "MEJnYRhZeeTU"
      },
      "source": [
        "### Análise:\n",
        "\n",
        "Observamos que os meses 1 (janeiro) e 7 (julho) são os que possuem maior número de chamadas. Também é possível observar uma diminuição a partir do mês 8 (agosto).\n",
        "\n",
        "Analisamos também quem em nosso Dataset faltam os dados dos meses 9, 10 e 11."
      ]
    },
    {
      "cell_type": "code",
      "metadata": {
        "colab": {
          "base_uri": "https://localhost:8080/",
          "height": 297
        },
        "id": "eSO7DsjB9gZf",
        "outputId": "7cfee6b6-6afe-40fe-d097-99475760366a"
      },
      "source": [
        "#gráfico de chamadas por mês\n",
        "sns.countplot(x='Mês', data=df)"
      ],
      "execution_count": 65,
      "outputs": [
        {
          "output_type": "execute_result",
          "data": {
            "text/plain": [
              "<matplotlib.axes._subplots.AxesSubplot at 0x7fb934c0efd0>"
            ]
          },
          "metadata": {},
          "execution_count": 65
        },
        {
          "output_type": "display_data",
          "data": {
            "image/png": "[encoded data removed]",
            "text/plain": [
              "<Figure size 432x288 with 1 Axes>"
            ]
          },
          "metadata": {
            "needs_background": "light"
          }
        }
      ]
    },
    {
      "cell_type": "markdown",
      "metadata": {
        "id": "q05q1DSCCQe9"
      },
      "source": [
        ""
      ]
    },
    {
      "cell_type": "code",
      "metadata": {
        "colab": {
          "base_uri": "https://localhost:8080/"
        },
        "id": "pClD4OT5-SRv",
        "outputId": "51d8f043-490f-4513-89b5-d949008e7319"
      },
      "source": [
        "#total de ligações semanas\n",
        "df['Dia da Semana'].value_counts()"
      ],
      "execution_count": 66,
      "outputs": [
        {
          "output_type": "execute_result",
          "data": {
            "text/plain": [
              "1    15150\n",
              "2    14879\n",
              "4    14833\n",
              "0    14680\n",
              "3    14478\n",
              "5    13336\n",
              "6    12136\n",
              "Name: Dia da Semana, dtype: int64"
            ]
          },
          "metadata": {},
          "execution_count": 66
        }
      ]
    },
    {
      "cell_type": "code",
      "metadata": {
        "id": "HQ9U2B5Q--xA"
      },
      "source": [
        "#criando dicionário para nomes de dias da semana\n",
        "diasemana = {0:\"Domingo\",\n",
        "             1:\"Segunda\",\n",
        "             2:\"Terça\",\n",
        "             3:\"Quarta\",\n",
        "             4:\"Quinta\",\n",
        "             5:\"Sexta\",\n",
        "             6:\"Sábado\"\n",
        "             }"
      ],
      "execution_count": 68,
      "outputs": []
    },
    {
      "cell_type": "code",
      "metadata": {
        "id": "otr1RQ0M_j8r"
      },
      "source": [
        "#aplicando dicionário\n",
        "df['Dia da Semana'] = df['Dia da Semana'].map(diasemana)"
      ],
      "execution_count": 69,
      "outputs": []
    },
    {
      "cell_type": "code",
      "metadata": {
        "colab": {
          "base_uri": "https://localhost:8080/"
        },
        "id": "dFSH6UJO_6uh",
        "outputId": "36bb9f9f-b98d-49f9-a229-50153535d954"
      },
      "source": [
        "df['Dia da Semana'].value_counts()"
      ],
      "execution_count": 70,
      "outputs": [
        {
          "output_type": "execute_result",
          "data": {
            "text/plain": [
              "Segunda    15150\n",
              "Terça      14879\n",
              "Quinta     14833\n",
              "Domingo    14680\n",
              "Quarta     14478\n",
              "Sexta      13336\n",
              "Sábado     12136\n",
              "Name: Dia da Semana, dtype: int64"
            ]
          },
          "metadata": {},
          "execution_count": 70
        }
      ]
    },
    {
      "cell_type": "code",
      "metadata": {
        "colab": {
          "base_uri": "https://localhost:8080/",
          "height": 297
        },
        "id": "Luiuub5Y_-tw",
        "outputId": "471b693e-22ae-4c9f-a63a-61c2eba32ce6"
      },
      "source": [
        "sns.countplot(x='Dia da Semana', data=df)"
      ],
      "execution_count": 71,
      "outputs": [
        {
          "output_type": "execute_result",
          "data": {
            "text/plain": [
              "<matplotlib.axes._subplots.AxesSubplot at 0x7fb933844510>"
            ]
          },
          "metadata": {},
          "execution_count": 71
        },
        {
          "output_type": "display_data",
          "data": {
            "image/png": "[encoded data removed]",
            "text/plain": [
              "<Figure size 432x288 with 1 Axes>"
            ]
          },
          "metadata": {
            "needs_background": "light"
          }
        }
      ]
    },
    {
      "cell_type": "code",
      "metadata": {
        "colab": {
          "base_uri": "https://localhost:8080/",
          "height": 357
        },
        "id": "IaD0nGWfA-Hh",
        "outputId": "b6e53474-69a1-4996-982c-f0a1a36af422"
      },
      "source": [
        "#analisando informações através de agrupamento da coluna mês \n",
        "agrupaMes = df.groupby('Mês').count()\n",
        "agrupaMes"
      ],
      "execution_count": 87,
      "outputs": [
        {
          "output_type": "execute_result",
          "data": {
            "text/html": [
              "<div>\n",
              "<style scoped>\n",
              "    .dataframe tbody tr th:only-of-type {\n",
              "        vertical-align: middle;\n",
              "    }\n",
              "\n",
              "    .dataframe tbody tr th {\n",
              "        vertical-align: top;\n",
              "    }\n",
              "\n",
              "    .dataframe thead th {\n",
              "        text-align: right;\n",
              "    }\n",
              "</style>\n",
              "<table border=\"1\" class=\"dataframe\">\n",
              "  <thead>\n",
              "    <tr style=\"text-align: right;\">\n",
              "      <th></th>\n",
              "      <th>Latitude</th>\n",
              "      <th>Longitude</th>\n",
              "      <th>Descrição</th>\n",
              "      <th>CEP</th>\n",
              "      <th>Título</th>\n",
              "      <th>Data</th>\n",
              "      <th>Município</th>\n",
              "      <th>Endereço</th>\n",
              "      <th>Categoria</th>\n",
              "      <th>Hora</th>\n",
              "      <th>Dia da Semana</th>\n",
              "      <th>colunaData</th>\n",
              "    </tr>\n",
              "    <tr>\n",
              "      <th>Mês</th>\n",
              "      <th></th>\n",
              "      <th></th>\n",
              "      <th></th>\n",
              "      <th></th>\n",
              "      <th></th>\n",
              "      <th></th>\n",
              "      <th></th>\n",
              "      <th></th>\n",
              "      <th></th>\n",
              "      <th></th>\n",
              "      <th></th>\n",
              "      <th></th>\n",
              "    </tr>\n",
              "  </thead>\n",
              "  <tbody>\n",
              "    <tr>\n",
              "      <th>1</th>\n",
              "      <td>13205</td>\n",
              "      <td>13205</td>\n",
              "      <td>13205</td>\n",
              "      <td>11527</td>\n",
              "      <td>13205</td>\n",
              "      <td>13205</td>\n",
              "      <td>13203</td>\n",
              "      <td>13096</td>\n",
              "      <td>13205</td>\n",
              "      <td>13205</td>\n",
              "      <td>13205</td>\n",
              "      <td>13205</td>\n",
              "    </tr>\n",
              "    <tr>\n",
              "      <th>2</th>\n",
              "      <td>11467</td>\n",
              "      <td>11467</td>\n",
              "      <td>11467</td>\n",
              "      <td>9930</td>\n",
              "      <td>11467</td>\n",
              "      <td>11467</td>\n",
              "      <td>11465</td>\n",
              "      <td>11396</td>\n",
              "      <td>11467</td>\n",
              "      <td>11467</td>\n",
              "      <td>11467</td>\n",
              "      <td>11467</td>\n",
              "    </tr>\n",
              "    <tr>\n",
              "      <th>3</th>\n",
              "      <td>11101</td>\n",
              "      <td>11101</td>\n",
              "      <td>11101</td>\n",
              "      <td>9755</td>\n",
              "      <td>11101</td>\n",
              "      <td>11101</td>\n",
              "      <td>11092</td>\n",
              "      <td>11059</td>\n",
              "      <td>11101</td>\n",
              "      <td>11101</td>\n",
              "      <td>11101</td>\n",
              "      <td>11101</td>\n",
              "    </tr>\n",
              "    <tr>\n",
              "      <th>4</th>\n",
              "      <td>11326</td>\n",
              "      <td>11326</td>\n",
              "      <td>11326</td>\n",
              "      <td>9895</td>\n",
              "      <td>11326</td>\n",
              "      <td>11326</td>\n",
              "      <td>11323</td>\n",
              "      <td>11283</td>\n",
              "      <td>11326</td>\n",
              "      <td>11326</td>\n",
              "      <td>11326</td>\n",
              "      <td>11326</td>\n",
              "    </tr>\n",
              "    <tr>\n",
              "      <th>5</th>\n",
              "      <td>11423</td>\n",
              "      <td>11423</td>\n",
              "      <td>11423</td>\n",
              "      <td>9946</td>\n",
              "      <td>11423</td>\n",
              "      <td>11423</td>\n",
              "      <td>11420</td>\n",
              "      <td>11378</td>\n",
              "      <td>11423</td>\n",
              "      <td>11423</td>\n",
              "      <td>11423</td>\n",
              "      <td>11423</td>\n",
              "    </tr>\n",
              "    <tr>\n",
              "      <th>6</th>\n",
              "      <td>11786</td>\n",
              "      <td>11786</td>\n",
              "      <td>11786</td>\n",
              "      <td>10212</td>\n",
              "      <td>11786</td>\n",
              "      <td>11786</td>\n",
              "      <td>11777</td>\n",
              "      <td>11732</td>\n",
              "      <td>11786</td>\n",
              "      <td>11786</td>\n",
              "      <td>11786</td>\n",
              "      <td>11786</td>\n",
              "    </tr>\n",
              "    <tr>\n",
              "      <th>7</th>\n",
              "      <td>12137</td>\n",
              "      <td>12137</td>\n",
              "      <td>12137</td>\n",
              "      <td>10633</td>\n",
              "      <td>12137</td>\n",
              "      <td>12137</td>\n",
              "      <td>12133</td>\n",
              "      <td>12088</td>\n",
              "      <td>12137</td>\n",
              "      <td>12137</td>\n",
              "      <td>12137</td>\n",
              "      <td>12137</td>\n",
              "    </tr>\n",
              "    <tr>\n",
              "      <th>8</th>\n",
              "      <td>9078</td>\n",
              "      <td>9078</td>\n",
              "      <td>9078</td>\n",
              "      <td>7832</td>\n",
              "      <td>9078</td>\n",
              "      <td>9078</td>\n",
              "      <td>9073</td>\n",
              "      <td>9025</td>\n",
              "      <td>9078</td>\n",
              "      <td>9078</td>\n",
              "      <td>9078</td>\n",
              "      <td>9078</td>\n",
              "    </tr>\n",
              "    <tr>\n",
              "      <th>12</th>\n",
              "      <td>7969</td>\n",
              "      <td>7969</td>\n",
              "      <td>7969</td>\n",
              "      <td>6907</td>\n",
              "      <td>7969</td>\n",
              "      <td>7969</td>\n",
              "      <td>7963</td>\n",
              "      <td>7916</td>\n",
              "      <td>7969</td>\n",
              "      <td>7969</td>\n",
              "      <td>7969</td>\n",
              "      <td>7969</td>\n",
              "    </tr>\n",
              "  </tbody>\n",
              "</table>\n",
              "</div>"
            ],
            "text/plain": [
              "     Latitude  Longitude  Descrição  ...   Hora  Dia da Semana  colunaData\n",
              "Mês                                  ...                                  \n",
              "1       13205      13205      13205  ...  13205          13205       13205\n",
              "2       11467      11467      11467  ...  11467          11467       11467\n",
              "3       11101      11101      11101  ...  11101          11101       11101\n",
              "4       11326      11326      11326  ...  11326          11326       11326\n",
              "5       11423      11423      11423  ...  11423          11423       11423\n",
              "6       11786      11786      11786  ...  11786          11786       11786\n",
              "7       12137      12137      12137  ...  12137          12137       12137\n",
              "8        9078       9078       9078  ...   9078           9078        9078\n",
              "12       7969       7969       7969  ...   7969           7969        7969\n",
              "\n",
              "[9 rows x 12 columns]"
            ]
          },
          "metadata": {},
          "execution_count": 87
        }
      ]
    },
    {
      "cell_type": "code",
      "metadata": {
        "colab": {
          "base_uri": "https://localhost:8080/",
          "height": 297
        },
        "id": "_v-DWtBxs5e1",
        "outputId": "8659dca5-8c28-4a90-fbc4-a245ca70062d"
      },
      "source": [
        "#criando gráfico simples de indicação de chamadas por mês\n",
        "agrupaMes['Município'].plot()"
      ],
      "execution_count": 73,
      "outputs": [
        {
          "output_type": "execute_result",
          "data": {
            "text/plain": [
              "<matplotlib.axes._subplots.AxesSubplot at 0x7fb933c3b150>"
            ]
          },
          "metadata": {},
          "execution_count": 73
        },
        {
          "output_type": "display_data",
          "data": {
            "image/png": "[encoded data removed]",
            "text/plain": [
              "<Figure size 432x288 with 1 Axes>"
            ]
          },
          "metadata": {
            "needs_background": "light"
          }
        }
      ]
    },
    {
      "cell_type": "markdown",
      "metadata": {
        "id": "MyfKHbozf9l3"
      },
      "source": [
        "### Análise:\n",
        "\n",
        "Através do gráfico observamos que o aumento das ligações de Emergência ocorrem nos meses 1 (janeiro) e 7 (julho). Com base nesse gráfico, podemos concluir que as chamadas para a Emergência tendem a aumentar significativamente no período de férias. Podemos sugerir aos tomadores de decisão do Condado que no período de férias sejam realizados patrulhamentos das autoridades mais frequentes na tentativa de diminuição de chamadas para os números de Emergência."
      ]
    }
  ]
}